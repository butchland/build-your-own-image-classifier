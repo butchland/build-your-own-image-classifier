{
  "nbformat": 4,
  "nbformat_minor": 4,
  "metadata": {
    "jupytext": {
      "split_at_heading": true
    },
    "kernelspec": {
      "display_name": "Python 3",
      "language": "python",
      "name": "python3"
    },
    "language_info": {
      "codemirror_mode": {
        "name": "ipython",
        "version": 3
      },
      "file_extension": ".py",
      "mimetype": "text/x-python",
      "name": "python",
      "nbconvert_exporter": "python",
      "pygments_lexer": "ipython3",
      "version": "3.7.7"
    },
    "toc": {
      "base_numbering": 1,
      "nav_menu": {},
      "number_sections": false,
      "sideBar": true,
      "skip_h1_title": true,
      "title_cell": "Table of Contents",
      "title_sidebar": "Contents",
      "toc_cell": false,
      "toc_position": {},
      "toc_section_display": true,
      "toc_window_display": false
    },
    "colab": {
      "name": "colab-clean-image-dataset.ipynb",
      "provenance": [],
      "collapsed_sections": [],
      "toc_visible": true,
      "include_colab_link": true
    },
    "accelerator": "GPU"
  },
  "cells": [
    {
      "cell_type": "markdown",
      "metadata": {
        "id": "view-in-github",
        "colab_type": "text"
      },
      "source": [
        "<a href=\"https://colab.research.google.com/github/butchland/build-your-own-image-classifier/blob/master/colab-clean-image-dataset.ipynb\" target=\"_parent\"><img src=\"https://colab.research.google.com/assets/colab-badge.svg\" alt=\"Open In Colab\"/></a>"
      ]
    },
    {
      "cell_type": "markdown",
      "metadata": {
        "id": "jaglhNLw3id1"
      },
      "source": [
        "# Clean Images from your Image Dataset\n",
        "\n",
        "## Instructions\n",
        "\n",
        "1. In the **Specify Project Name and Dataset Type** section below, fill out the project name first _(this is the name of the project you used in the previous notebook. If you didn't change the name of the default project in the previous notebook, you shouldn't have to change the default project name here either so just leave the project name as is)_.\n",
        "\n",
        "    Modify the `dataset_type` from `raw` to `cleaned` if you already previously ran this notebook and created a clean dataset of your images and you want to continue working on cleaning it up more.\n",
        "\n",
        "    _(If this is your first time to clean your image dataset, just leave it to `raw`)_ \n",
        "\n",
        "    If the cleaned dataset does not exist and you picked it, this will trigger an error. Just update your selection and  press `Cmd/Ctrl-F9` or Click on the menu `Runtime/Run all` again to fetch the correct dataset _(after connecting, that is)_.\n",
        "\n",
        "1. Click on the `Connect` button on the top right area of the page. This will change into a checkmark with the RAM and Disk health bars once the connection is complete.\n",
        "1. Press `Cmd/Ctrl+F9` or Click on the menu `Runtime/Run all`\n",
        "1. Click on the link to `accounts.google.com` that appears and login in to your Google Account if neccessary or select the Google Account to use for your Google Drive. (This will open a new tab)\n",
        "1. Authorize `Google Drive File Stream` to access your Google Drive (We will use this to save your collected images to a folder on your Google Drive).\n",
        "\n",
        "1. Copy the generated authentication token and paste it on the input box that appears.\n",
        "\n",
        "1. Let your notebook run all the way to the section on Image Cleaning. This will show up with on the notebook document below with the message **`START CLEANING YOUR IMAGES`**\n",
        "\n",
        "1. Once the images show up in Image Cleaning section below, delete or recategorize your images if they are incorrect.\n",
        "1. Just scroll horizontally to see the images. Read the **Image Cleaning Instructions** section on how to use the `Image Cleaner` widget.\n",
        "\n",
        "1. Once all the images are cleaned up, click on the section \n",
        "entitled `Done Image Cleaning `. \n",
        "1. To continue the process of saving your cleaned up dataset\n",
        "press `Cmd/Ctrl-F10` or Click on the menu `Runtime/Run after` to run all the remaining steps _(including copying your cleaned dataset back into your Google Drive folder)_\n",
        "\n",
        "1. Once the text 'DONE! DONE! DONE!' is printed at the end of the notebook, You can click on the menu `Runtime/Factory reset runtime` and click `Yes` on the dialog box to end your session.\n",
        "\n",
        "Your cleaned image dataset will be saved in your Google Drive under `/My Drive/build-your-own-image-classifier/data/<project-name>/cleaned_<project-name>.tgz` _(if you didn't change the defaults, it should be under `/My Drive/build-your-own-image-classifier/data/pets/cleaned_pets.tgz`)_\n"
      ]
    },
    {
      "cell_type": "markdown",
      "metadata": {
        "id": "bcSBCY-uBh-0"
      },
      "source": [
        "## What is going on?\n",
        "\n",
        "This section explains the code behind this notebook\n",
        "\n",
        "_(Click on SHOW CODE to display the code)_"
      ]
    },
    {
      "cell_type": "markdown",
      "metadata": {
        "id": "Bj32tdG9CAFo"
      },
      "source": [
        "### Connect to your Google\n",
        "\n",
        "We'll need to connect to your Google Drive in order to retrieve our collected images as well as save the cleaned images afterwards."
      ]
    },
    {
      "cell_type": "code",
      "metadata": {
        "id": "8s2G8vXx258T"
      },
      "source": [
        "#@title {display-mode: \"form\"}\n",
        "from google.colab import drive\n",
        "drive.mount('/content/drive')"
      ],
      "execution_count": null,
      "outputs": []
    },
    {
      "cell_type": "markdown",
      "metadata": {
        "id": "K9QxPd3QCrUz"
      },
      "source": [
        "### Specify Project Name and Dataset Type\n",
        "\n",
        "Fill out the `project name` -- the project name should be the same one used as the project name used in the previous notebook. \n",
        "\n",
        "If you already went through this notebook once and created a cleaned version of your image dataset and you want to continue cleaning the data more, you can change the `dataset_type` from `raw` to `cleaned` to fetch this dataset from your Google Drive.\n",
        "\n",
        "_(Otherwise just leave the `dataset_type` to `raw`)_"
      ]
    },
    {
      "cell_type": "code",
      "metadata": {
        "id": "etO-wuOqw1hN"
      },
      "source": [
        "#@title Enter your project name {display-mode: \"form\"}\n",
        "project = \"pets\" #@param {type: \"string\"}\n",
        "dataset_type = \"raw\" #@param [\"raw\",\"cleaned\"]"
      ],
      "execution_count": null,
      "outputs": []
    },
    {
      "cell_type": "markdown",
      "metadata": {
        "id": "Sks-KHVGDzeh"
      },
      "source": [
        "### Install Python Packages\n",
        "\n",
        "Install all the python packages to collect the images"
      ]
    },
    {
      "cell_type": "code",
      "metadata": {
        "id": "nnNp9sOhluAP"
      },
      "source": [
        "#@title {display-mode: \"form\"} \n",
        "!pip install -Uqq fastai --upgrade\n",
        "!pip install -Uqq git+https://github.com/butchland/my_timesaver_utils"
      ],
      "execution_count": null,
      "outputs": []
    },
    {
      "cell_type": "markdown",
      "metadata": {
        "id": "xH1ApfyFtTyO"
      },
      "source": [
        "### Copy your Image Dataset from Google Drive"
      ]
    },
    {
      "cell_type": "code",
      "metadata": {
        "id": "JMLn_leFtgM_"
      },
      "source": [
        "#@title {display-mode: \"form\"} \n",
        "if dataset_type == \"cleaned\":\n",
        "    filename = f'cleaned_{project}.tgz'\n",
        "else:\n",
        "    file_name = f'{project}.tgz'\n",
        "folder_path = f'build-your-own-image-classifier/data/{project}'  \n",
        "file_name = f'{project}.tgz' \n",
        "!cp /content/drive/My\\ Drive/{folder_path}/{file_name} /content/.\n",
        "!tar -xzf {file_name}"
      ],
      "execution_count": null,
      "outputs": []
    },
    {
      "cell_type": "code",
      "metadata": {
        "id": "o0xKg1RZiAwK"
      },
      "source": [
        "#@title {display-mode: \"form\"} \n",
        "from fastai.vision.all import *\n",
        "from fastai.vision.widgets import *\n",
        "path = Path(f'/content/{project}')\n",
        "Path.BASE_PATH = path\n",
        "bears = DataBlock(\n",
        "    blocks=(ImageBlock,CategoryBlock),\n",
        "    get_items=get_image_files,\n",
        "    get_y=parent_label,\n",
        "    splitter=RandomSplitter(seed=42),\n",
        "    item_tfms=Resize(128),\n",
        "    batch_tfms=aug_transforms()\n",
        ")"
      ],
      "execution_count": null,
      "outputs": []
    },
    {
      "cell_type": "markdown",
      "metadata": {
        "id": "uJwlqajSFSuZ"
      },
      "source": [
        "### Display a sample of the data images from your dataset\n",
        "The images below are just a sample from the images\n",
        "in your dataset."
      ]
    },
    {
      "cell_type": "code",
      "metadata": {
        "id": "jw1mprNPmYrq"
      },
      "source": [
        "#@title {display-mode: \"form\"}\n",
        "dls = bears.dataloaders(path)\n",
        "dls.show_batch()"
      ],
      "execution_count": null,
      "outputs": []
    },
    {
      "cell_type": "markdown",
      "metadata": {
        "id": "mH3pwpMHiAy7"
      },
      "source": [
        "### Build an image classifier for cleaning images\n",
        "\n",
        "We now create an initial version of our image classifier that will help us clean up the images in your data"
      ]
    },
    {
      "cell_type": "code",
      "metadata": {
        "id": "WIenSXFxiAy7"
      },
      "source": [
        "#@title {display-mode: \"form\"}\n",
        "learn = cnn_learner(dls, resnet18, metrics=accuracy)"
      ],
      "execution_count": null,
      "outputs": []
    },
    {
      "cell_type": "markdown",
      "metadata": {
        "id": "ceZItNmwJvxX"
      },
      "source": [
        "This just trains the image classifier on our images. \n",
        "\n",
        "It still works, even though some of the images might be mislabeled.\n",
        "\n",
        "The **accuracy** (times 100) is the percentage at which our initial version of the image classifier correctly predicted the categories on our validation set _(validation metrics are used as a guide on how good our image classifier will be when deployed as an app)_\n"
      ]
    },
    {
      "cell_type": "code",
      "metadata": {
        "id": "h6ryAfrNzk3f"
      },
      "source": [
        "#@title {display-mode: \"form\"}\n",
        "learn.fine_tune(4)"
      ],
      "execution_count": null,
      "outputs": []
    },
    {
      "cell_type": "markdown",
      "metadata": {
        "id": "aapgUTtFKMuf"
      },
      "source": [
        "## Image Cleaning\n",
        "\n",
        "Below is an interactive widget that will\n",
        "allow us to delete or reclassify our images.\n",
        "\n",
        "These images have been picked by our image classifier\n",
        "where it is least confident about.\n",
        "\n",
        "### Usage Instructions\n",
        "> The images are segregated into **Train** and **Valid** datasets and are \n",
        "> further segregated by category.\n",
        "\n",
        "> So after either selecting some images for deletion or changing their categories, You can\n",
        "> click to the `Apply` button to apply the changes, or click on `Reset` to revert all your\n",
        "> pending changes.\n",
        "\n",
        "> When cleaning your data, make sure to check on all categories for both **Train** and **Valid** subsets of your dataset, and\n",
        "> click on the `Apply` button to finalize the changes to each set in your dataset.  \n"
      ]
    },
    {
      "cell_type": "code",
      "metadata": {
        "id": "a2is4RqkMa6L"
      },
      "source": [
        "#@title {display-mode: \"form\"}\n",
        "from my_timesaver_utils.enhanced_imageclassifiercleaner import *\n",
        "cleaner = EnhancedImageClassifierCleaner(learn)\n",
        "cleaner"
      ],
      "execution_count": null,
      "outputs": []
    },
    {
      "cell_type": "code",
      "metadata": {
        "id": "ygE17jGXMyyj"
      },
      "source": [
        "#@title {display-mode: \"form\"}\n",
        "print(\"START CLEANING YOUR IMAGES\")\n",
        "raise RuntimeError(\"Click on the DONE CLEANING SECTION to continue the steps after cleaning\")"
      ],
      "execution_count": null,
      "outputs": []
    },
    {
      "cell_type": "markdown",
      "metadata": {
        "id": "FncIpHXENcB_"
      },
      "source": [
        "### DONE CLEANING SECTION\n",
        "Press `Cmd/Ctrl-F10` or Click on the menu `Runtime/Run after` to run all the remaining steps"
      ]
    },
    {
      "cell_type": "code",
      "metadata": {
        "id": "hgFogAPOQDwQ"
      },
      "source": [
        "#@title {display-mode: \"form\"}\n",
        "cleaned_filename = f'cleaned_{project}.tgz'\n",
        "!tar -czf {cleaned_filename} {project}\n",
        "!mkdir -p /content/drive/My\\ Drive/{folder_path}\n",
        "!cp {cleaned_filename} /content/drive/My\\ Drive/{folder_path}\n",
        "print(\"DONE! DONE! DONE!\")\n",
        "print(f'Your cleaned image dataset is saved in your Google Drive under the folder My Drive/{folder_path}/{cleaned_filename}')\n",
        "print(\"Make sure to end your session (Click on menu Runtime/Factory reset runtime and click 'Yes' on the dialog box to end your session)\")\n",
        "print(\"before closing this notebook.\")"
      ],
      "execution_count": null,
      "outputs": []
    }
  ]
}
