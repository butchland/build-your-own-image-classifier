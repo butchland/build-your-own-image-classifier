{
  "nbformat": 4,
  "nbformat_minor": 0,
  "metadata": {
    "jupytext": {
      "split_at_heading": true
    },
    "kernelspec": {
      "display_name": "Python 3",
      "language": "python",
      "name": "python3"
    },
    "language_info": {
      "codemirror_mode": {
        "name": "ipython",
        "version": 3
      },
      "file_extension": ".py",
      "mimetype": "text/x-python",
      "name": "python",
      "nbconvert_exporter": "python",
      "pygments_lexer": "ipython3",
      "version": "3.7.7"
    },
    "toc": {
      "base_numbering": 1,
      "nav_menu": {},
      "number_sections": false,
      "sideBar": true,
      "skip_h1_title": true,
      "title_cell": "Table of Contents",
      "title_sidebar": "Contents",
      "toc_cell": false,
      "toc_position": {},
      "toc_section_display": true,
      "toc_window_display": false
    },
    "colab": {
      "name": "colab-build-image-classifier.ipynb",
      "provenance": [],
      "collapsed_sections": [],
      "toc_visible": true,
      "include_colab_link": true
    },
    "accelerator": "GPU"
  },
  "cells": [
    {
      "cell_type": "markdown",
      "metadata": {
        "id": "view-in-github",
        "colab_type": "text"
      },
      "source": [
        "<a href=\"https://colab.research.google.com/github/butchland/build-your-own-image-classifier/blob/master/colab-build-image-classifier.ipynb\" target=\"_parent\"><img src=\"https://colab.research.google.com/assets/colab-badge.svg\" alt=\"Open In Colab\"/></a>"
      ]
    },
    {
      "cell_type": "markdown",
      "metadata": {
        "id": "jaglhNLw3id1"
      },
      "source": [
        "# Build your Image Classifier\n",
        "\n",
        "## Instructions\n",
        "\n",
        "1. In the **Specify Project Name** section below, fill out the project name first _(this is the name of the project you used in the previous notebook. If you didn't change the name of the default project in the previous notebook, you shouldn't have to change the default project name here either so just leave the project name as is)_.\n",
        "\n",
        "    This notebook assumes that you have already cleaned your image dataset (i.e. the _`cleaned_pets.tgz`_ or its equivalent has already been saved to your Google Drive under the _`/My Drive/build-your-own-image-classifier/data/pets`_ directory or its equivalent.\n",
        "\n",
        "    If the cleaned dataset does not exist, this will trigger an error. Please make sure to run the previous notebook ([Clean Images from your Image Dataset](https://colab.research.google.com/github/butchland/build-your-own-image-classifier/blob/master/colab-clean-image-dataset.ipynb)) before running this one. \n",
        "\n",
        "1. Click on the `Connect` button on the top right area of the page. This will change into a checkmark with the RAM and Disk health bars once the connection is complete.\n",
        "1. Press `Cmd/Ctrl+F9` or Click on the menu `Runtime/Run all`\n",
        "1. Click on the link to `accounts.google.com` that appears and login in to your Google Account if neccessary or select the Google Account to use for your Google Drive. (This will open a new tab)\n",
        "1. Authorize `Google Drive File Stream` to access your Google Drive (We will use this to save your exported image classifier to a folder on your Google Drive).\n",
        "\n",
        "1. Copy the generated authentication token and paste it on the input box that appears.\n",
        "\n",
        "1. Once the text 'DONE! DONE! DONE!' is printed at the end of the notebook, You can click on the menu `Runtime/Factory reset runtime` and click `Yes` on the dialog box to end your session.\n",
        "\n",
        "Your exported image classifier(`export.pkl`) will be saved in your Google Drive under `/My Drive/build-your-own-image-classifier/models/<project-name>`  _(if you didn't change the defaults, it should be under `/My Drive/build-your-own-image-classifier/models/pets/export.pkl`)_\n"
      ]
    },
    {
      "cell_type": "markdown",
      "metadata": {
        "id": "bcSBCY-uBh-0"
      },
      "source": [
        "## What is going on?\n",
        "\n",
        "This section explains the code behind this notebook\n",
        "\n",
        "_(Click on SHOW CODE to display the code)_"
      ]
    },
    {
      "cell_type": "markdown",
      "metadata": {
        "id": "Bj32tdG9CAFo"
      },
      "source": [
        "### Connect to your Google\n",
        "\n",
        "We'll need to connect to your Google Drive in order to retrieve our cleaned images dataset as well as save the exported image classifier file afterwards."
      ]
    },
    {
      "cell_type": "code",
      "metadata": {
        "id": "8s2G8vXx258T"
      },
      "source": [
        "#@title {display-mode: \"form\"}\n",
        "from google.colab import drive\n",
        "drive.mount('/content/drive')"
      ],
      "execution_count": null,
      "outputs": []
    },
    {
      "cell_type": "markdown",
      "metadata": {
        "id": "K9QxPd3QCrUz"
      },
      "source": [
        "### Specify Project Name and Dataset Type\n",
        "\n",
        "Fill out the `project name` -- the project name should be the same one used as the project name used in the previous notebook. \n",
        "\n"
      ]
    },
    {
      "cell_type": "code",
      "metadata": {
        "id": "etO-wuOqw1hN"
      },
      "source": [
        "#@title Enter your project name {display-mode: \"form\"}\n",
        "project = \"pets\" #@param {type: \"string\"}"
      ],
      "execution_count": null,
      "outputs": []
    },
    {
      "cell_type": "markdown",
      "metadata": {
        "id": "Sks-KHVGDzeh"
      },
      "source": [
        "### Install Python Packages\n",
        "\n",
        "Install all the python packages to collect the images"
      ]
    },
    {
      "cell_type": "code",
      "metadata": {
        "id": "nnNp9sOhluAP"
      },
      "source": [
        "#@title {display-mode: \"form\"} \n",
        "!pip install -Uqq fastai --upgrade"
      ],
      "execution_count": null,
      "outputs": []
    },
    {
      "cell_type": "markdown",
      "metadata": {
        "id": "xH1ApfyFtTyO"
      },
      "source": [
        "### Copy your Image Dataset from Google Drive"
      ]
    },
    {
      "cell_type": "code",
      "metadata": {
        "id": "JMLn_leFtgM_"
      },
      "source": [
        "#@title {display-mode: \"form\"} \n",
        "file_name = f'cleaned_{project}.tgz'\n",
        "folder_path = f'build-your-own-image-classifier/data/{project}'  \n",
        "!cp /content/drive/My\\ Drive/{folder_path}/{file_name} /content/.\n",
        "!tar -xzf {file_name}"
      ],
      "execution_count": null,
      "outputs": []
    },
    {
      "cell_type": "code",
      "metadata": {
        "id": "o0xKg1RZiAwK"
      },
      "source": [
        "#@title {display-mode: \"form\"} \n",
        "from fastai.vision.all import *\n",
        "from fastai.vision.widgets import *\n",
        "path = Path(f'/content/{project}')\n",
        "Path.BASE_PATH = path\n",
        "datablock = DataBlock(\n",
        "    blocks=(ImageBlock,CategoryBlock),\n",
        "    get_items=get_image_files,\n",
        "    get_y=parent_label,\n",
        "    splitter=RandomSplitter(seed=42),\n",
        "    item_tfms=Resize(460),\n",
        "    batch_tfms=aug_transforms(size=224, min_scale=0.8)\n",
        ")"
      ],
      "execution_count": null,
      "outputs": []
    },
    {
      "cell_type": "code",
      "metadata": {
        "id": "jw1mprNPmYrq"
      },
      "source": [
        "#@title {display-mode: \"form\"}\n",
        "dls = datablock.dataloaders(path)\n",
        "# dls.show_batch()"
      ],
      "execution_count": null,
      "outputs": []
    },
    {
      "cell_type": "markdown",
      "metadata": {
        "id": "mH3pwpMHiAy7"
      },
      "source": [
        "### Build your image classifier   \n",
        "\n",
        "We now create the final version of our image classifier that will be used for our application."
      ]
    },
    {
      "cell_type": "code",
      "metadata": {
        "id": "WIenSXFxiAy7"
      },
      "source": [
        "#@title {display-mode: \"form\"}\n",
        "learn = cnn_learner(dls, resnet34, metrics=accuracy)"
      ],
      "execution_count": null,
      "outputs": []
    },
    {
      "cell_type": "markdown",
      "metadata": {
        "id": "ceZItNmwJvxX"
      },
      "source": [
        "This just trains the image classifier on our images. \n",
        "\n",
        "The **accuracy** (times 100) is the percentage at which our final version of the image classifier correctly predicted the categories on our validation set _(validation metrics are used as a guide on how good our image classifier will be when deployed as an app)_\n",
        "\n",
        "Notice that the training runs longer than the previous run -- that's because we are trying to get the best performance for our image classifier once its deployed.\n"
      ]
    },
    {
      "cell_type": "code",
      "metadata": {
        "id": "h6ryAfrNzk3f"
      },
      "source": [
        "#@title {display-mode: \"form\"}\n",
        "learn.fine_tune(10, freeze_epochs=4)"
      ],
      "execution_count": null,
      "outputs": []
    },
    {
      "cell_type": "code",
      "metadata": {
        "id": "hgFogAPOQDwQ"
      },
      "source": [
        "#@title {display-mode: \"form\"}\n",
        "learn.export()\n",
        "model_path = f'build-your-own-image-classifier/models/{project}'\n",
        "!mkdir -p /content/drive/My\\ Drive/{model_path}\n",
        "!cp /content/export.pkl /content/drive/My\\ Drive/{model_path}\n",
        "print(\"DONE! DONE! DONE!\")\n",
        "print(f'Your exported image classifier(export.pkl) is saved in your Google Drive under the folder My Drive/{model_path}/export.pkl')\n",
        "print(\"Make sure to end your session (Click on menu Runtime/Factory reset runtime and click 'Yes' on the dialog box to end your session)\")\n",
        "print(\"before closing this notebook.\")"
      ],
      "execution_count": null,
      "outputs": []
    }
  ]
}
