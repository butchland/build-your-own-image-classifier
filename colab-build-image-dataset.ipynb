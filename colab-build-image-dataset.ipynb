{
  "nbformat": 4,
  "nbformat_minor": 0,
  "metadata": {
    "jupytext": {
      "split_at_heading": true
    },
    "kernelspec": {
      "display_name": "Python 3",
      "language": "python",
      "name": "python3"
    },
    "colab": {
      "name": "colab-build-image-dataset.ipynb",
      "provenance": [],
      "collapsed_sections": [],
      "toc_visible": true,
      "include_colab_link": true
    }
  },
  "cells": [
    {
      "cell_type": "markdown",
      "metadata": {
        "id": "view-in-github",
        "colab_type": "text"
      },
      "source": [
        "<a href=\"https://colab.research.google.com/github/butchland/build-your-own-image-classifier/blob/master/colab-build-image-dataset.ipynb\" target=\"_parent\"><img src=\"https://colab.research.google.com/assets/colab-badge.svg\" alt=\"Open In Colab\"/></a>"
      ]
    },
    {
      "cell_type": "markdown",
      "metadata": {
        "id": "jaglhNLw3id1"
      },
      "source": [
        "# Collect Images for your Image Classifier\n",
        "\n",
        "## Instructions\n",
        "\n",
        "1. Fill out the search terms and project name first _(if you want to build the default image classifier, just leave the search terms and project name as is)_ \n",
        "1. Click on the `Connect` button on the top right area of the page. This will change into a checkmark with the RAM and Disk health bars once the connection is complete.\n",
        "1. Press `Cmd/Ctrl+F9` or Click on the menu `Runtime/Run all`\n",
        "1. Click on the link to `accounts.google.com` that appears and login in to your Google Account if neccessary or select the Google Account to use for your Google Drive. (This will open a new tab)\n",
        "1. Authorize `Google Drive File Stream` to access your Google Drive (We will use this to save your collected images to a folder on your Google Drive). \n",
        "1. Copy the generated authentication token and paste it on the input box that appears.\n",
        "1. Let your notebook run all the way to the end. _(You don't need to do anything)_\n",
        "1. Once the text 'DONE! DONE! DONE!' is printed at the end of the notebook, You can click on the menu `Runtime/Factory reset runtime` and click `Yes` on the dialog box to end your session.\n",
        "\n",
        "Your image dataset will be saved in your Google Drive under `/My Drive/build-your-own-image-classifier/data/<project-name>/<project-name>.tgz` _(if you didn't change the defaults, it should be under `/My Drive/build-your-own-image-classifier/data/pets/pets.tgz`)_\n"
      ]
    },
    {
      "cell_type": "markdown",
      "metadata": {
        "id": "bcSBCY-uBh-0"
      },
      "source": [
        "## What is going on?\n",
        "\n",
        "This section explains the code behind this notebook\n",
        "\n",
        "_(Click on SHOW CODE to display the code)_"
      ]
    },
    {
      "cell_type": "markdown",
      "metadata": {
        "id": "Bj32tdG9CAFo"
      },
      "source": [
        "### Connect to your Google\n",
        "\n",
        "We'll need to connect to your Google Drive in order to save the images we'll be collecting later."
      ]
    },
    {
      "cell_type": "code",
      "metadata": {
        "id": "8s2G8vXx258T"
      },
      "source": [
        "#@title {display-mode: \"form\"}\n",
        "from google.colab import drive\n",
        "drive.mount('/content/drive')"
      ],
      "execution_count": null,
      "outputs": []
    },
    {
      "cell_type": "markdown",
      "metadata": {
        "id": "K9QxPd3QCrUz"
      },
      "source": [
        "### Specify Search Terms and Project Names\n",
        "\n",
        "Fill out the `search terms` and `project name` -- the project name is going to be used as the file and folder names where the images searched for (one folder for each search term) will be zipped and stored."
      ]
    },
    {
      "cell_type": "code",
      "metadata": {
        "id": "etO-wuOqw1hN"
      },
      "source": [
        "#@title Enter your search terms and project name {display-mode: \"form\"}\n",
        "search_terms = \"cats,dogs\" #@param {type: \"string\"}\n",
        "project = \"pets\" #@param {type: \"string\"}"
      ],
      "execution_count": null,
      "outputs": []
    },
    {
      "cell_type": "markdown",
      "metadata": {
        "id": "Sks-KHVGDzeh"
      },
      "source": [
        "### Install Python Packages\n",
        "\n",
        "Install all the python packages to collect the images"
      ]
    },
    {
      "cell_type": "code",
      "metadata": {
        "id": "nnNp9sOhluAP"
      },
      "source": [
        "#@title {display-mode: \"form\"} \n",
        "!pip install -Uqq fastai --upgrade\n",
        "!pip install -Uqq jmd_imagescraper"
      ],
      "execution_count": null,
      "outputs": []
    },
    {
      "cell_type": "markdown",
      "metadata": {
        "id": "8SIUMtjyEBSv"
      },
      "source": [
        "### Execute the Search\n",
        "\n",
        "Search and download the images for each search term. Display a count of how many images for each search term was downloaded."
      ]
    },
    {
      "cell_type": "code",
      "metadata": {
        "id": "bnAna-Ia76vR"
      },
      "source": [
        "#@title {display-mode: \"form\"} \n",
        "from pathlib import Path\n",
        "from jmd_imagescraper.core import *\n",
        "path = Path(project)\n",
        "params = {\n",
        "    \"max_results\": 500,\n",
        "    \"img_size\":    ImgSize.Cached, \n",
        "    \"img_type\":    ImgType.Photo,\n",
        "    \"img_layout\":  ImgLayout.Square,\n",
        "    \"img_color\":   ImgColor.All,\n",
        "    \"uuid_names\": True\n",
        "}\n",
        "search_items = [term.strip() for term in search_terms.split(',')]\n",
        "all_imgs = []\n",
        "folder_path = f'build-your-own-image-classifier/data/{project}'  \n",
        "file_name = f'{project}.tgz' \n",
        "print('Image Counts:')\n",
        "for search_item in search_items:\n",
        "    imgs = duckduckgo_search(path, search_item, search_item, **params)\n",
        "    img_counts = len(imgs)\n",
        "    all_imgs.extend(imgs)\n",
        "    print(f'{search_item} : {img_counts}')"
      ],
      "execution_count": null,
      "outputs": []
    },
    {
      "cell_type": "markdown",
      "metadata": {
        "id": "K9eRZu4GIQZT"
      },
      "source": [
        "### Zip and save the downloaded images to Google Drive\n",
        "\n",
        "Zip up the images for each category into a single tar zipped file (`.tgz` format) and copy it to your Google Drive."
      ]
    },
    {
      "cell_type": "code",
      "metadata": {
        "id": "ybxfrAskowQj"
      },
      "source": [
        "#@title {display-mode: \"form\"} \n",
        "!tar -czf {project}.tgz {project}\n",
        "!mkdir -p /content/drive/My\\ Drive/{folder_path}\n",
        "!cp {file_name} /content/drive/My\\ Drive/{folder_path}"
      ],
      "execution_count": null,
      "outputs": []
    },
    {
      "cell_type": "markdown",
      "metadata": {
        "id": "J6dFjKJPJFdD"
      },
      "source": [
        "### Finish up \n",
        "Print completion message and display where the zipped images file was copied to."
      ]
    },
    {
      "cell_type": "code",
      "metadata": {
        "id": "qeQIn0a7t075"
      },
      "source": [
        "#@title {display-mode: \"form\"} \n",
        "print('DONE! DONE! DONE!')\n",
        "print(f'Your image dataset has been saved in your Google Drive/My Drive/{folder_path}/{project}.tgz')"
      ],
      "execution_count": null,
      "outputs": []
    }
  ]
}