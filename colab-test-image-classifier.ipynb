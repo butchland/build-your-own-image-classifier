{
  "nbformat": 4,
  "nbformat_minor": 0,
  "metadata": {
    "jupytext": {
      "split_at_heading": true
    },
    "kernelspec": {
      "display_name": "Python 3",
      "language": "python",
      "name": "python3"
    },
    "language_info": {
      "codemirror_mode": {
        "name": "ipython",
        "version": 3
      },
      "file_extension": ".py",
      "mimetype": "text/x-python",
      "name": "python",
      "nbconvert_exporter": "python",
      "pygments_lexer": "ipython3",
      "version": "3.7.7"
    },
    "toc": {
      "base_numbering": 1,
      "nav_menu": {},
      "number_sections": false,
      "sideBar": true,
      "skip_h1_title": true,
      "title_cell": "Table of Contents",
      "title_sidebar": "Contents",
      "toc_cell": false,
      "toc_position": {},
      "toc_section_display": true,
      "toc_window_display": false
    },
    "colab": {
      "name": "colab-test-image-classifier.ipynb",
      "provenance": [],
      "collapsed_sections": [],
      "toc_visible": true,
      "include_colab_link": true
    }
  },
  "cells": [
    {
      "cell_type": "markdown",
      "metadata": {
        "id": "view-in-github",
        "colab_type": "text"
      },
      "source": [
        "<a href=\"https://colab.research.google.com/github/butchland/build-your-own-image-classifier/blob/master/colab-test-image-classifier.ipynb\" target=\"_parent\"><img src=\"https://colab.research.google.com/assets/colab-badge.svg\" alt=\"Open In Colab\"/></a>"
      ]
    },
    {
      "cell_type": "markdown",
      "metadata": {
        "id": "jaglhNLw3id1"
      },
      "source": [
        "# Test your Image Classifier\n",
        "\n",
        "## Instructions\n",
        "\n",
        "1. In the **Specify Project Name** section below, fill out the project name first _(this is the name of the project you used in the previous notebook. If you didn't change the name of the default project in the previous notebook, you shouldn't have to change the default project name here either so just leave the project name as is)_.\n",
        "\n",
        "    This notebook assumes that you have already built and exported your image classifier (i.e. the _`export.pkl`_ file already been saved to your Google Drive under the _`/My Drive/build-your-own-image-classifier/models/pets`_ directory or its equivalent.\n",
        "\n",
        "    If the exported image classifier does not exist, this will trigger an error. Please make sure to run the previous notebook ([Build your Image Classifier](https://colab.research.google.com/github/butchland/build-your-own-image-classifier/blob/master/colab-build-image-classifier.ipynb)) before running this one. \n",
        "\n",
        "1. Click on the `Connect` button on the top right area of the page. This will change into a checkmark with the RAM and Disk health bars once the connection is complete.\n",
        "1. Press `Cmd/Ctrl+F9` or Click on the menu `Runtime/Run all`\n",
        "1. Click on the link to `accounts.google.com` that appears and login in to your Google Account if neccessary or select the Google Account to use for your Google Drive. (This will open a new tab)\n",
        "1. Authorize `Google Drive File Stream` to access your Google Drive.\n",
        "\n",
        "1. Copy the generated authentication token and paste it on the input box that appears.\n",
        "\n",
        "1. Once the text 'RUNNING APPLICATION...' is displayed at the **Run App** section near the bottom of the notebook, click on the **`Upload`** button to upload an image and click on the **`Classify`** button to see if your images have been classified correctly. \n",
        "\n",
        "1. Once you are satisfied that the application is running correctly, you can click on the menu `Runtime/Factory reset runtime` and click `Yes` on the dialog box to end your session.\n"
      ]
    },
    {
      "cell_type": "markdown",
      "metadata": {
        "id": "bcSBCY-uBh-0"
      },
      "source": [
        "## What is going on?\n",
        "\n",
        "This section explains the code behind this notebook\n",
        "\n",
        "_(Click on SHOW CODE to display the code)_"
      ]
    },
    {
      "cell_type": "markdown",
      "metadata": {
        "id": "Bj32tdG9CAFo"
      },
      "source": [
        "### Connect to your Google Drive\n",
        "\n",
        "We'll need to connect to your Google Drive in order to retrieve your exported image classifier."
      ]
    },
    {
      "cell_type": "code",
      "metadata": {
        "id": "8s2G8vXx258T"
      },
      "source": [
        "#@title {display-mode: \"form\"}\n",
        "from google.colab import drive\n",
        "drive.mount('/content/drive')"
      ],
      "execution_count": null,
      "outputs": []
    },
    {
      "cell_type": "markdown",
      "metadata": {
        "id": "K9QxPd3QCrUz"
      },
      "source": [
        "### Specify Project Name and Dataset Type\n",
        "\n",
        "Fill out the `project name` -- the project name should be the same one used as the project name used in the previous notebook. \n"
      ]
    },
    {
      "cell_type": "code",
      "metadata": {
        "id": "etO-wuOqw1hN"
      },
      "source": [
        "#@title Enter your project name {display-mode: \"form\"}\n",
        "project = \"pets\" #@param {type: \"string\"}"
      ],
      "execution_count": null,
      "outputs": []
    },
    {
      "cell_type": "markdown",
      "metadata": {
        "id": "Sks-KHVGDzeh"
      },
      "source": [
        "### Install Python Packages\n",
        "\n",
        "Install all the python packages to run your app "
      ]
    },
    {
      "cell_type": "code",
      "metadata": {
        "id": "nnNp9sOhluAP"
      },
      "source": [
        "#@title {display-mode: \"form\"} \n",
        "!pip install -Uqq fastai --upgrade"
      ],
      "execution_count": null,
      "outputs": []
    },
    {
      "cell_type": "markdown",
      "metadata": {
        "id": "xH1ApfyFtTyO"
      },
      "source": [
        "### Copy your Image Classifier from Google Drive"
      ]
    },
    {
      "cell_type": "code",
      "metadata": {
        "id": "JMLn_leFtgM_"
      },
      "source": [
        "#@title {display-mode: \"form\"} \n",
        "file_name = f'export.pkl'\n",
        "folder_path = f'build-your-own-image-classifier/models/{project}'  \n",
        "!cp /content/drive/My\\ Drive/{folder_path}/{file_name} /content/."
      ],
      "execution_count": null,
      "outputs": []
    },
    {
      "cell_type": "code",
      "metadata": {
        "id": "o0xKg1RZiAwK"
      },
      "source": [
        "#@title {display-mode: \"form\"} \n",
        "from fastai.vision.all import *\n",
        "from fastai.vision.widgets import *\n",
        "from ipywidgets import widgets\n",
        "path = Path(f'/content')\n",
        "Path.BASE_PATH = path\n",
        "if not (path/file_name).is_file():\n",
        "    raise RuntimeError(\"Could not find export.pkl -- Please run notebook to build your classifier first!\")\n",
        "learn = load_learner(path/file_name)"
      ],
      "execution_count": null,
      "outputs": []
    },
    {
      "cell_type": "code",
      "metadata": {
        "id": "jw1mprNPmYrq"
      },
      "source": [
        "#@title {display-mode: \"form\"}\n",
        "!mkdir -p /content/images\n",
        "!curl -o /content/images/purple_dog.jpg -s https://raw.githubusercontent.com/butchland/build-your-own-image-classifier/master/images/purple_dog.jpg"
      ],
      "execution_count": null,
      "outputs": []
    },
    {
      "cell_type": "markdown",
      "metadata": {
        "id": "mH3pwpMHiAy7"
      },
      "source": [
        "### Run App\n",
        "\n",
        "We will now run the app which should show below."
      ]
    },
    {
      "cell_type": "code",
      "metadata": {
        "id": "PMmZaHnwtKyc"
      },
      "source": [
        "#@title {display-mode: \"form\"}\n",
        "print('RUNNING APPLICATION...')"
      ],
      "execution_count": null,
      "outputs": []
    },
    {
      "cell_type": "code",
      "metadata": {
        "id": "JAJdyynpp_PS"
      },
      "source": [
        "#@title {display-mode: \"form\"}\n",
        "btn_upload = SimpleNamespace(data = ['/content/images/purple_dog.jpg'])\n",
        "img = PILImage.create(btn_upload.data[-1])\n",
        "out_pl = widgets.Output()\n",
        "out_pl.clear_output()\n",
        "with out_pl: display(img.to_thumb(128,128))\n",
        "pred,pred_idx,probs = learn.predict(img)\n",
        "lbl_pred = widgets.Label()\n",
        "lbl_pred.value = f'Prediction: {pred}; Probability: {probs[pred_idx]:.04f}'\n",
        "btn_run = widgets.Button(description='Classify')\n",
        "def on_click_classify(change):\n",
        "    img = PILImage.create(btn_upload.data[-1])\n",
        "    out_pl.clear_output()\n",
        "    with out_pl: display(img.to_thumb(128,128))\n",
        "    pred,pred_idx,probs = learn.predict(img)\n",
        "    lbl_pred.value = f'Prediction: {pred}; Probability: {probs[pred_idx]:.04f}'\n",
        "\n",
        "btn_run.on_click(on_click_classify)\n",
        "#Putting back btn_upload to a widget for next cell\n",
        "btn_upload = widgets.FileUpload()\n",
        "#hide_output\n",
        "VBox([widgets.Label('UPLOAD AN IMAGE AND CLASSIFY!'), \n",
        "      btn_upload, btn_run, out_pl, lbl_pred])"
      ],
      "execution_count": null,
      "outputs": []
    },
    {
      "cell_type": "code",
      "metadata": {
        "id": "s0mFpvLvwZJY"
      },
      "source": [
        "#@title {display-mode: \"form\"}\n",
        "print(\"DONE! DONE! DONE!\")\n",
        "print(\"Make sure to end your session (Click on menu Runtime/Factory reset runtime and click 'Yes' on the dialog box to end your session)\")\n",
        "print(\"before closing this notebook.\")"
      ],
      "execution_count": null,
      "outputs": []
    }
  ]
}